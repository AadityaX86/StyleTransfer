{
 "cells": [
  {
   "cell_type": "code",
   "execution_count": 1,
   "metadata": {},
   "outputs": [],
   "source": [
    "import sys\n",
    "import os\n",
    "\n",
    "# Add the parent directory to sys.path\n",
    "sys.path.append(os.path.abspath(os.path.join(os.path.dirname('Model'), \"..\")))\n",
    "\n",
    "import torch\n",
    "import timm\n",
    "from Model.Encoder import Encoder\n",
    "from Model.TransModule import TransModule, TransModule_Config\n",
    "from Model.Decoder import Decoder\n",
    "import matplotlib.pyplot as plt\n",
    "import torchvision.transforms as T\n",
    "from PIL import Image\n",
    "from torchvision.utils import save_image\n",
    "import numpy as np\n",
    "import cv2"
   ]
  },
  {
   "cell_type": "code",
   "execution_count": null,
   "metadata": {},
   "outputs": [
    {
     "name": "stdout",
     "output_type": "stream",
     "text": [
      "Using GPU\n"
     ]
    }
   ],
   "source": [
    "# Load Device\n",
    "device = torch.device(\"cuda\" if torch.cuda.is_available() else \"cpu\")\n",
    "\n",
    "encoder = Encoder(\n",
    "    img_size=224,\n",
    "    patch_size=2,\n",
    "    in_chans=3,\n",
    "    embed_dim=192,\n",
    "    depths=[2, 2, 2],\n",
    "    nhead=[3, 6, 12],\n",
    "    strip_width=[2, 4, 7],\n",
    "    drop_path_rate=0.,\n",
    "    patch_norm=True\n",
    ").to(device)\n",
    "trans_config = TransModule_Config(nlayer=3, d_model=768, nhead=8, norm_first=True)\n",
    "transfer_module = TransModule(config=trans_config).to(device)\n",
    "decoder = Decoder(d_model=768, seq_input=True).to(device)"
   ]
  },
  {
   "cell_type": "code",
   "execution_count": 3,
   "metadata": {},
   "outputs": [
    {
     "name": "stderr",
     "output_type": "stream",
     "text": [
      "C:\\Users\\Admin\\AppData\\Local\\Temp\\ipykernel_8684\\3815876412.py:1: FutureWarning: You are using `torch.load` with `weights_only=False` (the current default value), which uses the default pickle module implicitly. It is possible to construct malicious pickle data which will execute arbitrary code during unpickling (See https://github.com/pytorch/pytorch/blob/main/SECURITY.md#untrusted-models for more details). In a future release, the default value for `weights_only` will be flipped to `True`. This limits the functions that could be executed during unpickling. Arbitrary objects will no longer be allowed to be loaded via this mode unless they are explicitly allowlisted by the user via `torch.serialization.add_safe_globals`. We recommend you start setting `weights_only=True` for any use case where you don't have full control of the loaded file. Please open an issue on GitHub for any issues related to this experimental feature.\n",
      "  checkpoint = torch.load('../.models/model_complete/checkpoint_40000_epoch.pkl')\n"
     ]
    }
   ],
   "source": [
    "checkpoint = torch.load('../.models/model_complete/checkpoint_40000_epoch.pkl')"
   ]
  },
  {
   "cell_type": "code",
   "execution_count": 4,
   "metadata": {},
   "outputs": [
    {
     "data": {
      "text/plain": [
       "<All keys matched successfully>"
      ]
     },
     "execution_count": 4,
     "metadata": {},
     "output_type": "execute_result"
    }
   ],
   "source": [
    "# Load the state dictionaries\n",
    "encoder.load_state_dict(checkpoint['encoder'])\n",
    "transfer_module.load_state_dict(checkpoint['transModule'])\n",
    "decoder.load_state_dict(checkpoint['decoder'])"
   ]
  },
  {
   "cell_type": "code",
   "execution_count": 5,
   "metadata": {},
   "outputs": [
    {
     "data": {
      "text/plain": [
       "Decoder(\n",
       "  (decoder): Sequential(\n",
       "    (0): ReflectionPad2d((1, 1, 1, 1))\n",
       "    (1): Conv2d(768, 256, kernel_size=(3, 3), stride=(1, 1))\n",
       "    (2): ReLU()\n",
       "    (3): Upsample(scale_factor=2.0, mode='nearest')\n",
       "    (4): ReflectionPad2d((1, 1, 1, 1))\n",
       "    (5): Conv2d(256, 256, kernel_size=(3, 3), stride=(1, 1))\n",
       "    (6): ReLU()\n",
       "    (7): ReflectionPad2d((1, 1, 1, 1))\n",
       "    (8): Conv2d(256, 256, kernel_size=(3, 3), stride=(1, 1))\n",
       "    (9): ReLU()\n",
       "    (10): ReflectionPad2d((1, 1, 1, 1))\n",
       "    (11): Conv2d(256, 256, kernel_size=(3, 3), stride=(1, 1))\n",
       "    (12): ReLU()\n",
       "    (13): ReflectionPad2d((1, 1, 1, 1))\n",
       "    (14): Conv2d(256, 128, kernel_size=(3, 3), stride=(1, 1))\n",
       "    (15): ReLU()\n",
       "    (16): Upsample(scale_factor=2.0, mode='nearest')\n",
       "    (17): ReflectionPad2d((1, 1, 1, 1))\n",
       "    (18): Conv2d(128, 128, kernel_size=(3, 3), stride=(1, 1))\n",
       "    (19): ReLU()\n",
       "    (20): ReflectionPad2d((1, 1, 1, 1))\n",
       "    (21): Conv2d(128, 64, kernel_size=(3, 3), stride=(1, 1))\n",
       "    (22): ReLU()\n",
       "    (23): Upsample(scale_factor=2.0, mode='nearest')\n",
       "    (24): ReflectionPad2d((1, 1, 1, 1))\n",
       "    (25): Conv2d(64, 64, kernel_size=(3, 3), stride=(1, 1))\n",
       "    (26): ReLU()\n",
       "    (27): ReflectionPad2d((1, 1, 1, 1))\n",
       "    (28): Conv2d(64, 3, kernel_size=(3, 3), stride=(1, 1))\n",
       "  )\n",
       ")"
      ]
     },
     "execution_count": 5,
     "metadata": {},
     "output_type": "execute_result"
    }
   ],
   "source": [
    "encoder.eval()\n",
    "transfer_module.eval()\n",
    "decoder.eval()"
   ]
  },
  {
   "cell_type": "code",
   "execution_count": 6,
   "metadata": {},
   "outputs": [],
   "source": [
    "# Paths to images\n",
    "content_img_path = './image_content.png'\n",
    "style_img_path = './image_style.png'\n",
    "\n",
    "# Load images\n",
    "content_img = Image.open(content_img_path).convert('RGB')\n",
    "style_img = Image.open(style_img_path).convert('RGB')\n",
    "\n",
    "content_shape = content_img.size\n",
    "size = min(content_shape[1], content_shape[0])\n",
    "\n",
    "# Preprocess the images\n",
    "only_tensor_transforms = T.Compose([\n",
    "    T.ToTensor(),\n",
    "])\n",
    "\n",
    "shape_transform = T.Compose([\n",
    "    T.Resize(size),\n",
    "    T.ToTensor(),\n",
    "])\n",
    "\n",
    "content_img = only_tensor_transforms(content_img).unsqueeze(0).to(device)\n",
    "style_img = shape_transform(style_img).unsqueeze(0).to(device)\n",
    "\n",
    "# Forward pass through encoders\n",
    "forward_content = encoder(content_img, arbitrary_input = True)  # [b, h, w, c]\n",
    "forward_style = encoder(style_img, arbitrary_input = True)      # [b, h, w, c]\n",
    "\n",
    "content_features, content_res = forward_content[0], forward_content[2]  # [b, c, h, w]\n",
    "style_features, style_res = forward_style[0], forward_style[2]      # [b, c, h, w]\n",
    "\n",
    "# Merge the features\n",
    "merged_features = transfer_module(content_features, style_features)\n",
    "\n",
    "# Decode the merged features\n",
    "output = decoder(merged_features, content_res)  # [b, c, h, w]\n",
    "\n",
    "# Save the generated image\n",
    "save_image(output, 'generated_image.png')"
   ]
  }
 ],
 "metadata": {
  "kernelspec": {
   "display_name": "style",
   "language": "python",
   "name": "python3"
  },
  "language_info": {
   "codemirror_mode": {
    "name": "ipython",
    "version": 3
   },
   "file_extension": ".py",
   "mimetype": "text/x-python",
   "name": "python",
   "nbconvert_exporter": "python",
   "pygments_lexer": "ipython3",
   "version": "3.11.9"
  }
 },
 "nbformat": 4,
 "nbformat_minor": 4
}
